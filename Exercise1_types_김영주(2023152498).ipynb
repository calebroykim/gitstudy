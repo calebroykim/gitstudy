{
  "nbformat": 4,
  "nbformat_minor": 0,
  "metadata": {
    "colab": {
      "provenance": [],
      "authorship_tag": "ABX9TyMvkEpu4KzG6g3iUXyxkYeN",
      "include_colab_link": true
    },
    "kernelspec": {
      "name": "python3",
      "display_name": "Python 3"
    },
    "language_info": {
      "name": "python"
    }
  },
  "cells": [
    {
      "cell_type": "markdown",
      "metadata": {
        "id": "view-in-github",
        "colab_type": "text"
      },
      "source": [
        "<a href=\"https://colab.research.google.com/github/calebroykim/gitstudy/blob/master/Exercise1_types_%EA%B9%80%EC%98%81%EC%A3%BC(2023152498).ipynb\" target=\"_parent\"><img src=\"https://colab.research.google.com/assets/colab-badge.svg\" alt=\"Open In Colab\"/></a>"
      ]
    },
    {
      "cell_type": "markdown",
      "source": [
        "<h1 id=\"exercise\">Exercise 1 (Types) : Your First Program </h1>\n",
        "이름 : 김영주\n",
        "학번 : 2023152498"
      ],
      "metadata": {
        "id": "9f35o-JN1-QY"
      }
    },
    {
      "cell_type": "code",
      "source": [
        "# Exercise 1 (Types) : Your First Program\n",
        "# 이름 : 김영주\n",
        "# 학번 : 2023152498\n",
        "\n",
        "# 단순히 \"Hello, world!\" 문자열을 출력함.\n",
        "print(\"Hello, world!\")\n",
        "\n",
        "# 코멘트 달기\n",
        "print(\"Hello, world!\") # Print the traditional hello world"
      ],
      "metadata": {
        "colab": {
          "base_uri": "https://localhost:8080/"
        },
        "id": "p_P89IR017Pg",
        "outputId": "23c335ac-2033-4264-86d0-17a4600c6cab"
      },
      "execution_count": 1,
      "outputs": [
        {
          "output_type": "stream",
          "name": "stdout",
          "text": [
            "Hello, world!\n",
            "Hello, world!\n"
          ]
        }
      ]
    }
  ]
}