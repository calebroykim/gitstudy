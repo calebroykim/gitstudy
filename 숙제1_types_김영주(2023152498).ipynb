{
  "nbformat": 4,
  "nbformat_minor": 0,
  "metadata": {
    "colab": {
      "provenance": [],
      "authorship_tag": "ABX9TyN0PGQShjr1EQxo7ZNFl5WO",
      "include_colab_link": true
    },
    "kernelspec": {
      "name": "python3",
      "display_name": "Python 3"
    },
    "language_info": {
      "name": "python"
    }
  },
  "cells": [
    {
      "cell_type": "markdown",
      "metadata": {
        "id": "view-in-github",
        "colab_type": "text"
      },
      "source": [
        "<a href=\"https://colab.research.google.com/github/calebroykim/gitstudy/blob/master/%EC%88%99%EC%A0%9C1_types_%EA%B9%80%EC%98%81%EC%A3%BC(2023152498).ipynb\" target=\"_parent\"><img src=\"https://colab.research.google.com/assets/colab-badge.svg\" alt=\"Open In Colab\"/></a>"
      ]
    },
    {
      "cell_type": "markdown",
      "source": [
        "<h1 id=\"exercise\">Exercise 1 (Types) : Your First Program </h1>\n",
        "이름 : 김영주\n",
        "학번 : 2023152498"
      ],
      "metadata": {
        "id": "9f35o-JN1-QY"
      }
    },
    {
      "cell_type": "code",
      "source": [
        "# Exercise 1 (Types) : Your First Program\n",
        "# 이름 : 김영주\n",
        "# 학번 : 2023152498\n",
        "\n",
        "# 단순히 \"Hello, world!\" 문자열을 출력함.\n",
        "print(\"Hello, world!\")\n",
        "\n",
        "# 코멘트 달기\n",
        "print(\"Hello, world!\") # Print the traditional hello world"
      ],
      "metadata": {
        "colab": {
          "base_uri": "https://localhost:8080/"
        },
        "id": "p_P89IR017Pg",
        "outputId": "23c335ac-2033-4264-86d0-17a4600c6cab"
      },
      "execution_count": null,
      "outputs": [
        {
          "output_type": "stream",
          "name": "stdout",
          "text": [
            "Hello, world!\n",
            "Hello, world!\n"
          ]
        }
      ]
    },
    {
      "cell_type": "code",
      "source": [
        "# Exercise 2 (Types) : Get the object type\n",
        "\n",
        "# Write your code below. type()을 이용하여 12.0의 object type 구하기\n",
        "type(12.0)\n"
      ],
      "metadata": {
        "id": "RkGkf6FnLnP_",
        "outputId": "a04e9b8e-9a2f-4a8f-cbf6-9e7518ee6229",
        "colab": {
          "base_uri": "https://localhost:8080/"
        }
      },
      "execution_count": 1,
      "outputs": [
        {
          "output_type": "execute_result",
          "data": {
            "text/plain": [
              "float"
            ]
          },
          "metadata": {},
          "execution_count": 1
        }
      ]
    },
    {
      "cell_type": "code",
      "source": [
        "# Exercise 3 (Types) : Types\n",
        "\n",
        "# What is the data type of the result of: 6 / 2\n",
        "type(6 / 2)\n"
      ],
      "metadata": {
        "id": "eLyQ9BXVLoXv",
        "outputId": "5e4fb170-438c-4e88-a3b7-8ff127200059",
        "colab": {
          "base_uri": "https://localhost:8080/"
        }
      },
      "execution_count": 2,
      "outputs": [
        {
          "output_type": "execute_result",
          "data": {
            "text/plain": [
              "float"
            ]
          },
          "metadata": {},
          "execution_count": 2
        }
      ]
    },
    {
      "cell_type": "code",
      "source": [
        "# What is the data type of the result of: 6 // 2\n",
        "type(6//2)"
      ],
      "metadata": {
        "id": "VFkSIoNmMYZt",
        "outputId": "26b0515a-a1e7-45f0-d021-244dc6a51672",
        "colab": {
          "base_uri": "https://localhost:8080/"
        }
      },
      "execution_count": 3,
      "outputs": [
        {
          "output_type": "execute_result",
          "data": {
            "text/plain": [
              "int"
            ]
          },
          "metadata": {},
          "execution_count": 3
        }
      ]
    },
    {
      "cell_type": "code",
      "source": [
        "# Exercise 4 (Types) : Expression\n",
        "\n",
        "# write an expression that calculates how many hours there are in 160 minutes:\n",
        "160/60\n"
      ],
      "metadata": {
        "id": "33Bj1hHOMjoY",
        "outputId": "24bbe7cb-dea7-4dc8-ffa5-0d78250c3574",
        "colab": {
          "base_uri": "https://localhost:8080/"
        }
      },
      "execution_count": 4,
      "outputs": [
        {
          "output_type": "execute_result",
          "data": {
            "text/plain": [
              "2.6666666666666665"
            ]
          },
          "metadata": {},
          "execution_count": 4
        }
      ]
    },
    {
      "cell_type": "code",
      "source": [
        "# write an expression that calculates how many hours there are in 160 minutes:\n",
        "160//60"
      ],
      "metadata": {
        "id": "iUU8iS59MnjI",
        "outputId": "cf6efd3b-c608-4bb8-f44b-44346e92aa52",
        "colab": {
          "base_uri": "https://localhost:8080/"
        }
      },
      "execution_count": 5,
      "outputs": [
        {
          "output_type": "execute_result",
          "data": {
            "text/plain": [
              "2"
            ]
          },
          "metadata": {},
          "execution_count": 5
        }
      ]
    },
    {
      "cell_type": "code",
      "source": [
        "# Exercise 5 (Types) : Expression and Variables in Python\n",
        "\n",
        "# What is the value of x where x = 3 + 2 * 2\n",
        "x = 3 + 2 * 2\n",
        "x\n"
      ],
      "metadata": {
        "id": "hHseymR2Mw6Y",
        "outputId": "82493012-19f5-47f8-a07c-a1686bba7b47",
        "colab": {
          "base_uri": "https://localhost:8080/"
        }
      },
      "execution_count": 6,
      "outputs": [
        {
          "output_type": "execute_result",
          "data": {
            "text/plain": [
              "7"
            ]
          },
          "metadata": {},
          "execution_count": 6
        }
      ]
    },
    {
      "cell_type": "code",
      "source": [
        "# What is the value of y where y = (3 + 2) * 2?\n",
        "y = (3 + 2) * 2\n",
        "y"
      ],
      "metadata": {
        "id": "j8i2WWcMM3Vc",
        "outputId": "5b12d1cd-a299-4841-d723-49d949e4c564",
        "colab": {
          "base_uri": "https://localhost:8080/"
        }
      },
      "execution_count": 7,
      "outputs": [
        {
          "output_type": "execute_result",
          "data": {
            "text/plain": [
              "10"
            ]
          },
          "metadata": {},
          "execution_count": 7
        }
      ]
    },
    {
      "cell_type": "code",
      "source": [
        "# Write your code below. Don't forget to press Shift+Enter to execute the cell\n",
        "z = x + y\n",
        "z"
      ],
      "metadata": {
        "id": "Mcu_Wzf4M7XC",
        "outputId": "f08a77d0-4b7c-4cd7-9f33-a12c9f66ab08",
        "colab": {
          "base_uri": "https://localhost:8080/"
        }
      },
      "execution_count": 8,
      "outputs": [
        {
          "output_type": "execute_result",
          "data": {
            "text/plain": [
              "17"
            ]
          },
          "metadata": {},
          "execution_count": 8
        }
      ]
    }
  ]
}