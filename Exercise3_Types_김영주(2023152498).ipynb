{
  "nbformat": 4,
  "nbformat_minor": 0,
  "metadata": {
    "colab": {
      "provenance": [],
      "authorship_tag": "ABX9TyMIoeumLAHIedWELK18Dg/R",
      "include_colab_link": true
    },
    "kernelspec": {
      "name": "python3",
      "display_name": "Python 3"
    },
    "language_info": {
      "name": "python"
    }
  },
  "cells": [
    {
      "cell_type": "markdown",
      "metadata": {
        "id": "view-in-github",
        "colab_type": "text"
      },
      "source": [
        "<a href=\"https://colab.research.google.com/github/calebroykim/gitstudy/blob/master/Exercise3_Types_%EA%B9%80%EC%98%81%EC%A3%BC(2023152498).ipynb\" target=\"_parent\"><img src=\"https://colab.research.google.com/assets/colab-badge.svg\" alt=\"Open In Colab\"/></a>"
      ]
    },
    {
      "cell_type": "markdown",
      "source": [
        "<h1 id=\"exercise\">Exercise 3 (Types) : Types </h1>\n",
        "이름 : 김영주\n",
        "학번 : 2023152498"
      ],
      "metadata": {
        "id": "9f35o-JN1-QY"
      }
    },
    {
      "cell_type": "code",
      "source": [
        "# Exercise 3 (Types) : Types\n",
        "# 이름 : 김영주\n",
        "# 학번 : 2023152498\n",
        "\n",
        "# What is the data type of the result of: 6 / 2\n",
        "type(6 / 2)\n"
      ],
      "metadata": {
        "colab": {
          "base_uri": "https://localhost:8080/"
        },
        "id": "p_P89IR017Pg",
        "outputId": "637ae9a2-fd42-46da-fd98-4e8b67069224"
      },
      "execution_count": 2,
      "outputs": [
        {
          "output_type": "execute_result",
          "data": {
            "text/plain": [
              "float"
            ]
          },
          "metadata": {},
          "execution_count": 2
        }
      ]
    },
    {
      "cell_type": "code",
      "source": [
        "# What is the data type of the result of: 6 // 2\n",
        "type(6//2)"
      ],
      "metadata": {
        "colab": {
          "base_uri": "https://localhost:8080/"
        },
        "id": "6GRZ6m8w8BnP",
        "outputId": "12503821-a708-489c-81c6-4c0399ca6ec5"
      },
      "execution_count": 3,
      "outputs": [
        {
          "output_type": "execute_result",
          "data": {
            "text/plain": [
              "int"
            ]
          },
          "metadata": {},
          "execution_count": 3
        }
      ]
    }
  ]
}