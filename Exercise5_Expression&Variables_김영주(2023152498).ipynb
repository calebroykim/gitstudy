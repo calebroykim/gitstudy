{
  "nbformat": 4,
  "nbformat_minor": 0,
  "metadata": {
    "colab": {
      "provenance": [],
      "authorship_tag": "ABX9TyMG29fYx+/5572DTWa+qf3/",
      "include_colab_link": true
    },
    "kernelspec": {
      "name": "python3",
      "display_name": "Python 3"
    },
    "language_info": {
      "name": "python"
    }
  },
  "cells": [
    {
      "cell_type": "markdown",
      "metadata": {
        "id": "view-in-github",
        "colab_type": "text"
      },
      "source": [
        "<a href=\"https://colab.research.google.com/github/calebroykim/gitstudy/blob/master/Exercise5_Expression%26Variables_%EA%B9%80%EC%98%81%EC%A3%BC(2023152498).ipynb\" target=\"_parent\"><img src=\"https://colab.research.google.com/assets/colab-badge.svg\" alt=\"Open In Colab\"/></a>"
      ]
    },
    {
      "cell_type": "markdown",
      "source": [
        "<h1 id=\"exercise\">Exercise 5 (Types) : Expression and Variables in Python </h1>\n",
        "이름 : 김영주\n",
        "학번 : 2023152498"
      ],
      "metadata": {
        "id": "9f35o-JN1-QY"
      }
    },
    {
      "cell_type": "code",
      "source": [
        "# Exercise 5 (Types) : Expression and Variables in Python\n",
        "# 이름 : 김영주\n",
        "# 학번 : 2023152498\n",
        "\n",
        "# What is the value of x where x = 3 + 2 * 2\n",
        "x = 3 + 2 * 2\n",
        "x\n"
      ],
      "metadata": {
        "colab": {
          "base_uri": "https://localhost:8080/"
        },
        "id": "p_P89IR017Pg",
        "outputId": "06aa3b73-c117-4706-b1af-660a60216e35"
      },
      "execution_count": 6,
      "outputs": [
        {
          "output_type": "execute_result",
          "data": {
            "text/plain": [
              "7"
            ]
          },
          "metadata": {},
          "execution_count": 6
        }
      ]
    },
    {
      "cell_type": "code",
      "source": [
        "# What is the value of y where y = (3 + 2) * 2?\n",
        "y = (3 + 2) * 2\n",
        "y"
      ],
      "metadata": {
        "colab": {
          "base_uri": "https://localhost:8080/"
        },
        "id": "6GRZ6m8w8BnP",
        "outputId": "d5fbc11e-00f1-4944-cd3a-8f4ff16db3a3"
      },
      "execution_count": 8,
      "outputs": [
        {
          "output_type": "execute_result",
          "data": {
            "text/plain": [
              "10"
            ]
          },
          "metadata": {},
          "execution_count": 8
        }
      ]
    },
    {
      "cell_type": "code",
      "source": [
        "# Write your code below. Don't forget to press Shift+Enter to execute the cell\n",
        "z = x + y\n",
        "z"
      ],
      "metadata": {
        "colab": {
          "base_uri": "https://localhost:8080/"
        },
        "id": "5cTFaBKq_eQB",
        "outputId": "4082dc44-5439-4478-d3d7-ee0df7f76399"
      },
      "execution_count": 9,
      "outputs": [
        {
          "output_type": "execute_result",
          "data": {
            "text/plain": [
              "17"
            ]
          },
          "metadata": {},
          "execution_count": 9
        }
      ]
    }
  ]
}