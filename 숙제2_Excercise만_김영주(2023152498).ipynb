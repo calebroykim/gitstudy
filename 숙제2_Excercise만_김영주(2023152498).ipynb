{
  "nbformat": 4,
  "nbformat_minor": 0,
  "metadata": {
    "colab": {
      "provenance": [],
      "authorship_tag": "ABX9TyOWwj7P90Duki4sdNUkkV8W",
      "include_colab_link": true
    },
    "kernelspec": {
      "name": "python3",
      "display_name": "Python 3"
    },
    "language_info": {
      "name": "python"
    }
  },
  "cells": [
    {
      "cell_type": "markdown",
      "metadata": {
        "id": "view-in-github",
        "colab_type": "text"
      },
      "source": [
        "<a href=\"https://colab.research.google.com/github/calebroykim/gitstudy/blob/main/%EC%88%99%EC%A0%9C2_Excercise%EB%A7%8C_%EA%B9%80%EC%98%81%EC%A3%BC(2023152498).ipynb\" target=\"_parent\"><img src=\"https://colab.research.google.com/assets/colab-badge.svg\" alt=\"Open In Colab\"/></a>"
      ]
    },
    {
      "cell_type": "markdown",
      "source": [
        "<h1 id=\"exercise\">Exercise Strings 1</h1>\n",
        "이름 : 김영주\n",
        "학번 : 2023152498"
      ],
      "metadata": {
        "id": "9f35o-JN1-QY"
      }
    },
    {
      "cell_type": "code",
      "source": [
        "# Exercise Strings 1\n",
        "# 이름 : 김영주\n",
        "# 학번 : 2023152498\n",
        "\n",
        "# What is the value of the variable A after the following code is executed?\n",
        "A = \"1\"\n",
        "A\n"
      ],
      "metadata": {
        "colab": {
          "base_uri": "https://localhost:8080/",
          "height": 35
        },
        "id": "p_P89IR017Pg",
        "outputId": "ea69bffc-129d-4350-afe3-f33d0c57989b"
      },
      "execution_count": 11,
      "outputs": [
        {
          "output_type": "execute_result",
          "data": {
            "text/plain": [
              "'1'"
            ],
            "application/vnd.google.colaboratory.intrinsic+json": {
              "type": "string"
            }
          },
          "metadata": {},
          "execution_count": 11
        }
      ]
    },
    {
      "cell_type": "code",
      "source": [
        "# What is the value of the variable B after the following code is executed?\n",
        "B = \"2\"\n",
        "B"
      ],
      "metadata": {
        "colab": {
          "base_uri": "https://localhost:8080/",
          "height": 35
        },
        "id": "6GRZ6m8w8BnP",
        "outputId": "c98c2667-93e8-4d7d-9b2d-995a44797f21"
      },
      "execution_count": 13,
      "outputs": [
        {
          "output_type": "execute_result",
          "data": {
            "text/plain": [
              "'2'"
            ],
            "application/vnd.google.colaboratory.intrinsic+json": {
              "type": "string"
            }
          },
          "metadata": {},
          "execution_count": 13
        }
      ]
    },
    {
      "cell_type": "code",
      "source": [
        "# What is the value of the variable C after the following code is executed?\n",
        "C = A + B\n",
        "C"
      ],
      "metadata": {
        "colab": {
          "base_uri": "https://localhost:8080/",
          "height": 35
        },
        "id": "5cTFaBKq_eQB",
        "outputId": "6aa6ba23-a1d0-4f4b-8ea8-2106e0122ed5"
      },
      "execution_count": 14,
      "outputs": [
        {
          "output_type": "execute_result",
          "data": {
            "text/plain": [
              "'12'"
            ],
            "application/vnd.google.colaboratory.intrinsic+json": {
              "type": "string"
            }
          },
          "metadata": {},
          "execution_count": 14
        }
      ]
    },
    {
      "cell_type": "code",
      "source": [
        "# Consider the variable D use slicing to print out the first three elements:\n",
        "D = \"ABCDEFG\"\n",
        "print(D[0:3])"
      ],
      "metadata": {
        "colab": {
          "base_uri": "https://localhost:8080/"
        },
        "id": "zPM_JGwZFcLs",
        "outputId": "8789eb60-0307-4f6e-9ce1-4040483f2589"
      },
      "execution_count": 17,
      "outputs": [
        {
          "output_type": "stream",
          "name": "stdout",
          "text": [
            "ABC\n"
          ]
        }
      ]
    },
    {
      "cell_type": "code",
      "source": [
        "# Use a stride value of 2 to print out every second character of the string E:\n",
        "E = 'clocrkr1e1c1t'\n",
        "print(E[::2])"
      ],
      "metadata": {
        "colab": {
          "base_uri": "https://localhost:8080/"
        },
        "id": "wwT3C3w8GiXz",
        "outputId": "2fc5cc2c-186b-4ed7-a803-032288db5879"
      },
      "execution_count": 19,
      "outputs": [
        {
          "output_type": "stream",
          "name": "stdout",
          "text": [
            "correct\n"
          ]
        }
      ]
    },
    {
      "cell_type": "code",
      "source": [
        "# Print out a backslash:\n",
        "print(\"\\\\\")"
      ],
      "metadata": {
        "colab": {
          "base_uri": "https://localhost:8080/"
        },
        "id": "Bk8HKbbvG4Qm",
        "outputId": "c140a48d-eac4-4af3-84a0-27a020309e78"
      },
      "execution_count": 25,
      "outputs": [
        {
          "output_type": "stream",
          "name": "stdout",
          "text": [
            "\\\n"
          ]
        }
      ]
    },
    {
      "cell_type": "code",
      "source": [
        "# Convert the variable F to uppercase:\n",
        "F = \"You are wrong\"\n",
        "print(F.upper())"
      ],
      "metadata": {
        "colab": {
          "base_uri": "https://localhost:8080/"
        },
        "id": "R30L8kdVIBol",
        "outputId": "6eec9870-23bb-4934-fea0-046820fc650d"
      },
      "execution_count": 26,
      "outputs": [
        {
          "output_type": "stream",
          "name": "stdout",
          "text": [
            "YOU ARE WRONG\n"
          ]
        }
      ]
    },
    {
      "cell_type": "code",
      "source": [
        "# Consider the variable G, and find the first index of the sub-string snow:\n",
        "G = \"Mary had a little lamb Little lamb, little lamb Mary had a little lamb \\\n",
        "Its fleece was white as snow And everywhere that Mary went Mary went, Mary went \\\n",
        "Everywhere that Mary went The lamb was sure to go\"\n",
        "G.find(\"snow\")"
      ],
      "metadata": {
        "colab": {
          "base_uri": "https://localhost:8080/"
        },
        "id": "rZYyoVSQIJrI",
        "outputId": "e982eed0-9964-4436-838d-8854a6b77a05"
      },
      "execution_count": 28,
      "outputs": [
        {
          "output_type": "execute_result",
          "data": {
            "text/plain": [
              "95"
            ]
          },
          "metadata": {},
          "execution_count": 28
        }
      ]
    },
    {
      "cell_type": "code",
      "source": [
        "# In the variable G, replace the sub-string Mary with Bob:\n",
        "print(G.replace(\"Mary\",\"Bob\"))"
      ],
      "metadata": {
        "colab": {
          "base_uri": "https://localhost:8080/"
        },
        "id": "fZC66YEyInxs",
        "outputId": "7238872c-e91f-4c02-f12b-5803be12c9df"
      },
      "execution_count": 29,
      "outputs": [
        {
          "output_type": "stream",
          "name": "stdout",
          "text": [
            "Bob had a little lamb Little lamb, little lamb Bob had a little lamb Its fleece was white as snow And everywhere that Bob went Bob went, Bob went Everywhere that Bob went The lamb was sure to go\n"
          ]
        }
      ]
    }
  ]
}