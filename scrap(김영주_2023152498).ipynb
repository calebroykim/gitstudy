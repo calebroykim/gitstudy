{
  "cells": [
    {
      "cell_type": "markdown",
      "metadata": {
        "id": "view-in-github",
        "colab_type": "text"
      },
      "source": [
        "<a href=\"https://colab.research.google.com/github/calebroykim/gitstudy/blob/master/scrap(%EA%B9%80%EC%98%81%EC%A3%BC_2023152498).ipynb\" target=\"_parent\"><img src=\"https://colab.research.google.com/assets/colab-badge.svg\" alt=\"Open In Colab\"/></a>"
      ]
    },
    {
      "cell_type": "markdown",
      "id": "33a027bc",
      "metadata": {
        "id": "33a027bc"
      },
      "source": [
        "# 02-1 API 사용하기"
      ]
    },
    {
      "cell_type": "markdown",
      "id": "645e5664",
      "metadata": {
        "id": "645e5664"
      },
      "source": [
        "<table class=\"tfo-notebook-buttons\" align=\"left\">\n",
        "  <td>\n",
        "    <a target=\"_blank\" href=\"https://nbviewer.jupyter.org/github/rickiepark/hg-da/blob/main/02-1.ipynb\"><img src=\"https://jupyter.org/assets/share.png\" width=\"61\" />주피터 노트북 뷰어로 보기</a>\n",
        "  </td>\n",
        "  <td>\n",
        "    <a target=\"_blank\" href=\"https://colab.research.google.com/github/rickiepark/hg-da/blob/main/02-1.ipynb\"><img src=\"https://www.tensorflow.org/images/colab_logo_32px.png\" />구글 코랩(Colab)에서 실행하기</a>\n",
        "  </td>\n",
        "</table>"
      ]
    },
    {
      "cell_type": "markdown",
      "id": "341ef6d6",
      "metadata": {
        "id": "341ef6d6"
      },
      "source": [
        "## 파이썬에서 XML 다루기"
      ]
    },
    {
      "cell_type": "code",
      "execution_count": 2,
      "id": "223e329d",
      "metadata": {
        "id": "223e329d",
        "colab": {
          "base_uri": "https://localhost:8080/"
        },
        "outputId": "4c294c2c-d542-4c78-bb11-a8db715ce92a"
      },
      "outputs": [
        {
          "output_type": "stream",
          "name": "stdout",
          "text": [
            "Mounted at /content/drive\n",
            "menu\n"
          ]
        }
      ],
      "source": [
        "import xml.etree.ElementTree as et\n",
        "from google.colab import drive\n",
        "drive.mount('/content/drive')\n",
        "\n",
        "xml_path = '/content/drive/My Drive/Colab Notebooks/menu.xml'\n",
        "tree = et.ElementTree(file=xml_path)\n",
        "root = tree.getroot()\n",
        "\n",
        "print(root.tag)"
      ]
    },
    {
      "cell_type": "code",
      "execution_count": 3,
      "id": "4b9b9c5d",
      "metadata": {
        "colab": {
          "base_uri": "https://localhost:8080/"
        },
        "id": "4b9b9c5d",
        "outputId": "fbf9d7f8-e975-423f-e958-56892c9bb74c"
      },
      "outputs": [
        {
          "output_type": "stream",
          "name": "stdout",
          "text": [
            "<class 'xml.etree.ElementTree.Element'>\n"
          ]
        }
      ],
      "source": [
        "print(type(root))"
      ]
    },
    {
      "cell_type": "code",
      "execution_count": 4,
      "id": "109fdfa0",
      "metadata": {
        "colab": {
          "base_uri": "https://localhost:8080/"
        },
        "id": "109fdfa0",
        "outputId": "96703249-3787-457b-8827-7a770cc26327"
      },
      "outputs": [
        {
          "output_type": "stream",
          "name": "stdout",
          "text": [
            "tag: breakfast attributes: {'hours': '7-11'}\n",
            "\ttag: item attributes: {'price': '$6.00'}\n",
            "\ttag: item attributes: {'price': '$4.00'}\n",
            "tag: lunch attributes: {'hours': '11-3'}\n",
            "\ttag: item attributes: {'price': '$5.00'}\n",
            "tag: dinner attributes: {'hours': '3-10'}\n",
            "\ttag: item attributes: {'price': '8.00'}\n"
          ]
        }
      ],
      "source": [
        "for child in root:\n",
        "  print('tag:', child.tag, 'attributes:',child.attrib)\n",
        "  for grandchild in child:\n",
        "    print('\\ttag:',grandchild.tag, 'attributes:',grandchild.attrib)"
      ]
    },
    {
      "cell_type": "code",
      "execution_count": 5,
      "id": "9f22ede5",
      "metadata": {
        "colab": {
          "base_uri": "https://localhost:8080/"
        },
        "id": "9f22ede5",
        "outputId": "09674463-9d1c-4420-cb55-b855f7bf472c"
      },
      "outputs": [
        {
          "output_type": "execute_result",
          "data": {
            "text/plain": [
              "3"
            ]
          },
          "metadata": {},
          "execution_count": 5
        }
      ],
      "source": [
        "len(root)"
      ]
    },
    {
      "cell_type": "code",
      "execution_count": 6,
      "id": "17c4f244",
      "metadata": {
        "colab": {
          "base_uri": "https://localhost:8080/"
        },
        "id": "17c4f244",
        "outputId": "1d72b3f9-c423-4329-bb46-bcf648c85cb4"
      },
      "outputs": [
        {
          "output_type": "execute_result",
          "data": {
            "text/plain": [
              "2"
            ]
          },
          "metadata": {},
          "execution_count": 6
        }
      ],
      "source": [
        "len(root[0])"
      ]
    },
    {
      "cell_type": "code",
      "execution_count": 7,
      "id": "99f69eba",
      "metadata": {
        "colab": {
          "base_uri": "https://localhost:8080/"
        },
        "id": "99f69eba",
        "outputId": "329374d8-3782-441e-c123-1de818cfe0fd"
      },
      "outputs": [
        {
          "output_type": "execute_result",
          "data": {
            "text/plain": [
              "xml.etree.ElementTree.Element"
            ]
          },
          "metadata": {},
          "execution_count": 7
        }
      ],
      "source": [
        "type(root[0])"
      ]
    },
    {
      "cell_type": "code",
      "execution_count": 8,
      "id": "f661f2cf",
      "metadata": {
        "id": "f661f2cf",
        "colab": {
          "base_uri": "https://localhost:8080/"
        },
        "outputId": "5b10283d-57c3-405c-c7f6-09a727bcb248"
      },
      "outputs": [
        {
          "output_type": "stream",
          "name": "stdout",
          "text": [
            "<Element 'breakfast' at 0x78964cd1ac00>\n",
            "7-11\n",
            "['hours']\n",
            "[('hours', '7-11')]\n"
          ]
        }
      ],
      "source": [
        "print(root[0])\n",
        "print(root[0].get(\"hours\"))\n",
        "print(root[0].keys())\n",
        "print(root[0].items())"
      ]
    },
    {
      "cell_type": "code",
      "execution_count": 9,
      "id": "34e2a21a",
      "metadata": {
        "colab": {
          "base_uri": "https://localhost:8080/"
        },
        "id": "34e2a21a",
        "outputId": "7473f514-246f-469f-e4ec-34d7428cecc0"
      },
      "outputs": [
        {
          "output_type": "stream",
          "name": "stdout",
          "text": [
            "<Element 'lunch' at 0x78961b78e660>\n",
            "11-3\n",
            "['hours']\n",
            "[('hours', '11-3')]\n"
          ]
        }
      ],
      "source": [
        "lunch = root.find(\"lunch\")\n",
        "print(lunch)\n",
        "print(lunch.get(\"hours\"))\n",
        "print(lunch.keys())\n",
        "print(lunch.items())"
      ]
    },
    {
      "cell_type": "code",
      "execution_count": 10,
      "id": "87098b44",
      "metadata": {
        "colab": {
          "base_uri": "https://localhost:8080/"
        },
        "id": "87098b44",
        "outputId": "764d8c75-61bd-4b88-e805-28b3d667047e"
      },
      "outputs": [
        {
          "output_type": "stream",
          "name": "stdout",
          "text": [
            "[<Element 'item' at 0x78961b753240>, <Element 'item' at 0x78961b78fe20>]\n",
            "$6.00\n",
            "breakfast burritos\n",
            "$4.00\n",
            "pancakes\n"
          ]
        }
      ],
      "source": [
        "print(root[0].findall('item'))\n",
        "\n",
        "for item in root[0].findall('item'):\n",
        "  print(item.get('price'))\n",
        "  print(item.text)"
      ]
    },
    {
      "cell_type": "markdown",
      "source": [],
      "metadata": {
        "id": "ACVSgqEnNJF9"
      },
      "id": "ACVSgqEnNJF9"
    },
    {
      "cell_type": "markdown",
      "metadata": {
        "id": "901ec809"
      },
      "source": [
        "## 파이썬에서 JSON 데이터 다루기"
      ],
      "id": "901ec809"
    },
    {
      "cell_type": "code",
      "source": [
        "import json\n",
        "\n",
        "j1 = {\"name\":\"홍길동\",\"birth\":\"0525\",\"age\":30}\n",
        "j1\n"
      ],
      "metadata": {
        "colab": {
          "base_uri": "https://localhost:8080/"
        },
        "id": "-LAeRyAsM_De",
        "outputId": "dcce4b09-0a29-4d81-c555-6135ff0a1553"
      },
      "id": "-LAeRyAsM_De",
      "execution_count": 12,
      "outputs": [
        {
          "output_type": "execute_result",
          "data": {
            "text/plain": [
              "{'name': '홍길동', 'birth': '0525', 'age': 30}"
            ]
          },
          "metadata": {},
          "execution_count": 12
        }
      ]
    },
    {
      "cell_type": "code",
      "source": [
        "json.dumps(j1)"
      ],
      "metadata": {
        "colab": {
          "base_uri": "https://localhost:8080/",
          "height": 35
        },
        "id": "JpMtPbDDNgZe",
        "outputId": "ad0cb6a0-4999-4735-93c5-03d637d296e5"
      },
      "id": "JpMtPbDDNgZe",
      "execution_count": 14,
      "outputs": [
        {
          "output_type": "execute_result",
          "data": {
            "text/plain": [
              "'{\"name\": \"\\\\ud64d\\\\uae38\\\\ub3d9\", \"birth\": \"0525\", \"age\": 30}'"
            ],
            "application/vnd.google.colaboratory.intrinsic+json": {
              "type": "string"
            }
          },
          "metadata": {},
          "execution_count": 14
        }
      ]
    },
    {
      "cell_type": "code",
      "source": [
        "print(json.dumps(j1, indent=2))"
      ],
      "metadata": {
        "colab": {
          "base_uri": "https://localhost:8080/"
        },
        "id": "tOiyVouFNqWC",
        "outputId": "b982379d-839d-4982-ca01-67103e380ddd"
      },
      "id": "tOiyVouFNqWC",
      "execution_count": 15,
      "outputs": [
        {
          "output_type": "stream",
          "name": "stdout",
          "text": [
            "{\n",
            "  \"name\": \"\\ud64d\\uae38\\ub3d9\",\n",
            "  \"birth\": \"0525\",\n",
            "  \"age\": 30\n",
            "}\n"
          ]
        }
      ]
    },
    {
      "cell_type": "code",
      "source": [
        "json.dumps([1,2,3])"
      ],
      "metadata": {
        "colab": {
          "base_uri": "https://localhost:8080/",
          "height": 35
        },
        "id": "bT9HIgQzNzwu",
        "outputId": "2f2f7090-7ec4-442f-b2ed-220f578189e3"
      },
      "id": "bT9HIgQzNzwu",
      "execution_count": 16,
      "outputs": [
        {
          "output_type": "execute_result",
          "data": {
            "text/plain": [
              "'[1, 2, 3]'"
            ],
            "application/vnd.google.colaboratory.intrinsic+json": {
              "type": "string"
            }
          },
          "metadata": {},
          "execution_count": 16
        }
      ]
    },
    {
      "cell_type": "code",
      "source": [
        "json.dumps((4,5,6))"
      ],
      "metadata": {
        "colab": {
          "base_uri": "https://localhost:8080/",
          "height": 35
        },
        "id": "m2-nHYmfN7Fl",
        "outputId": "1a68d050-c432-4c55-c7f5-4ecbca49f4d1"
      },
      "id": "m2-nHYmfN7Fl",
      "execution_count": 17,
      "outputs": [
        {
          "output_type": "execute_result",
          "data": {
            "text/plain": [
              "'[4, 5, 6]'"
            ],
            "application/vnd.google.colaboratory.intrinsic+json": {
              "type": "string"
            }
          },
          "metadata": {},
          "execution_count": 17
        }
      ]
    },
    {
      "cell_type": "code",
      "source": [
        "j1 = {\"name\":\"홍길동\",\"birth\":\"0525\",\"age\":30}\n",
        "d1 = json.dumps(j1)\n",
        "json.loads(d1)"
      ],
      "metadata": {
        "colab": {
          "base_uri": "https://localhost:8080/"
        },
        "id": "LyBlRxMuOFr3",
        "outputId": "df2d3350-7bea-42db-ad8c-f0de960b0e6f"
      },
      "id": "LyBlRxMuOFr3",
      "execution_count": 18,
      "outputs": [
        {
          "output_type": "execute_result",
          "data": {
            "text/plain": [
              "{'name': '홍길동', 'birth': '0525', 'age': 30}"
            ]
          },
          "metadata": {},
          "execution_count": 18
        }
      ]
    },
    {
      "cell_type": "code",
      "source": [
        "json_file = \"/content/drive/My Drive/Colab Notebooks/myinfo.json.txt\"\n",
        "with open(json_file, \"r\") as f:\n",
        "  data = json.load(f)\n",
        "\n",
        "  print(type(data))"
      ],
      "metadata": {
        "colab": {
          "base_uri": "https://localhost:8080/"
        },
        "id": "vj3PWAauOt-M",
        "outputId": "528366cc-5cef-4a36-e0d3-a1ec0feeb5b1"
      },
      "id": "vj3PWAauOt-M",
      "execution_count": 26,
      "outputs": [
        {
          "output_type": "stream",
          "name": "stdout",
          "text": [
            "<class 'dict'>\n"
          ]
        }
      ]
    },
    {
      "cell_type": "code",
      "source": [
        "print(data)"
      ],
      "metadata": {
        "colab": {
          "base_uri": "https://localhost:8080/"
        },
        "id": "qvCFvyVkRHcu",
        "outputId": "eaa7076d-2356-42f0-9acf-9b9e7576fc3f"
      },
      "id": "qvCFvyVkRHcu",
      "execution_count": 27,
      "outputs": [
        {
          "output_type": "stream",
          "name": "stdout",
          "text": [
            "{'name': '홍길동', 'birth': '0525', 'age': 30}\n"
          ]
        }
      ]
    },
    {
      "cell_type": "markdown",
      "id": "4f2011f6",
      "metadata": {
        "id": "4f2011f6"
      },
      "source": [
        "## 파이썬으로 스크래핑"
      ]
    },
    {
      "cell_type": "code",
      "execution_count": 29,
      "id": "23be5bc7",
      "metadata": {
        "id": "23be5bc7"
      },
      "outputs": [],
      "source": [
        "from urllib.request import urlopen"
      ]
    },
    {
      "cell_type": "code",
      "source": [
        "html = urlopen(\"http://pythonscraping.com/pages/page1.html\")\n",
        "print(html.read())"
      ],
      "metadata": {
        "colab": {
          "base_uri": "https://localhost:8080/"
        },
        "id": "yhLrJgJrRg_r",
        "outputId": "3815b754-d93c-4124-c429-10a3604af916"
      },
      "id": "yhLrJgJrRg_r",
      "execution_count": 34,
      "outputs": [
        {
          "output_type": "stream",
          "name": "stdout",
          "text": [
            "b'<html>\\n<head>\\n<title>A Useful Page</title>\\n</head>\\n<body>\\n<h1>An Interesting Title</h1>\\n<div>\\nLorem ipsum dolor sit amet, consectetur adipisicing elit, sed do eiusmod tempor incididunt ut labore et dolore magna aliqua. Ut enim ad minim veniam, quis nostrud exercitation ullamco laboris nisi ut aliquip ex ea commodo consequat. Duis aute irure dolor in reprehenderit in voluptate velit esse cillum dolore eu fugiat nulla pariatur. Excepteur sint occaecat cupidatat non proident, sunt in culpa qui officia deserunt mollit anim id est laborum.\\n</div>\\n</body>\\n</html>\\n'\n"
          ]
        }
      ]
    },
    {
      "cell_type": "code",
      "source": [
        "from bs4 import BeautifulSoup\n",
        "html = urlopen(\"http://pythonscraping.com/pages/page1.html\")\n",
        "bsObj = BeautifulSoup(html.read(),\"html.parser\")\n",
        "print(bsObj.h1)"
      ],
      "metadata": {
        "colab": {
          "base_uri": "https://localhost:8080/"
        },
        "id": "PdrzM3H4R3Pg",
        "outputId": "313ba889-07c0-49f8-fa1d-418a4f26828a"
      },
      "id": "PdrzM3H4R3Pg",
      "execution_count": 36,
      "outputs": [
        {
          "output_type": "stream",
          "name": "stdout",
          "text": [
            "<h1>An Interesting Title</h1>\n"
          ]
        }
      ]
    },
    {
      "cell_type": "code",
      "source": [
        "print(bsObj.html.prettify())"
      ],
      "metadata": {
        "colab": {
          "base_uri": "https://localhost:8080/"
        },
        "id": "X_j1VSWASNRM",
        "outputId": "12f0640f-8cfe-48bf-993d-45ef9cee7931"
      },
      "id": "X_j1VSWASNRM",
      "execution_count": 38,
      "outputs": [
        {
          "output_type": "stream",
          "name": "stdout",
          "text": [
            "<html>\n",
            " <head>\n",
            "  <title>\n",
            "   A Useful Page\n",
            "  </title>\n",
            " </head>\n",
            " <body>\n",
            "  <h1>\n",
            "   An Interesting Title\n",
            "  </h1>\n",
            "  <div>\n",
            "   Lorem ipsum dolor sit amet, consectetur adipisicing elit, sed do eiusmod tempor incididunt ut labore et dolore magna aliqua. Ut enim ad minim veniam, quis nostrud exercitation ullamco laboris nisi ut aliquip ex ea commodo consequat. Duis aute irure dolor in reprehenderit in voluptate velit esse cillum dolore eu fugiat nulla pariatur. Excepteur sint occaecat cupidatat non proident, sunt in culpa qui officia deserunt mollit anim id est laborum.\n",
            "  </div>\n",
            " </body>\n",
            "</html>\n",
            "\n"
          ]
        }
      ]
    },
    {
      "cell_type": "code",
      "source": [
        "print(bsObj.html.body.h1)\n",
        "print(bsObj.body.h1)\n",
        "print(bsObj.html.h1)"
      ],
      "metadata": {
        "colab": {
          "base_uri": "https://localhost:8080/"
        },
        "id": "T0k5knFQTOp5",
        "outputId": "0cc64176-2f05-4f79-beb1-84ae794c4cf3"
      },
      "id": "T0k5knFQTOp5",
      "execution_count": 39,
      "outputs": [
        {
          "output_type": "stream",
          "name": "stdout",
          "text": [
            "<h1>An Interesting Title</h1>\n",
            "<h1>An Interesting Title</h1>\n",
            "<h1>An Interesting Title</h1>\n"
          ]
        }
      ]
    }
  ],
  "metadata": {
    "colab": {
      "provenance": [],
      "include_colab_link": true
    },
    "kernelspec": {
      "display_name": "Python 3",
      "language": "python",
      "name": "python3"
    },
    "language_info": {
      "codemirror_mode": {
        "name": "ipython",
        "version": 3
      },
      "file_extension": ".py",
      "mimetype": "text/x-python",
      "name": "python",
      "nbconvert_exporter": "python",
      "pygments_lexer": "ipython3",
      "version": "3.7.3"
    }
  },
  "nbformat": 4,
  "nbformat_minor": 5
}