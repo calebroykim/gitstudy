{
  "nbformat": 4,
  "nbformat_minor": 0,
  "metadata": {
    "colab": {
      "provenance": [],
      "authorship_tag": "ABX9TyOsXzxy6WgKXgCneh9IfDb3",
      "include_colab_link": true
    },
    "kernelspec": {
      "name": "python3",
      "display_name": "Python 3"
    },
    "language_info": {
      "name": "python"
    }
  },
  "cells": [
    {
      "cell_type": "markdown",
      "metadata": {
        "id": "view-in-github",
        "colab_type": "text"
      },
      "source": [
        "<a href=\"https://colab.research.google.com/github/calebroykim/gitstudy/blob/master/Exercise4_Expression_%EA%B9%80%EC%98%81%EC%A3%BC(2023152498).ipynb\" target=\"_parent\"><img src=\"https://colab.research.google.com/assets/colab-badge.svg\" alt=\"Open In Colab\"/></a>"
      ]
    },
    {
      "cell_type": "markdown",
      "source": [
        "<h1 id=\"exercise\">Exercise 4 (Types) : Expression </h1>\n",
        "이름 : 김영주\n",
        "학번 : 2023152498"
      ],
      "metadata": {
        "id": "9f35o-JN1-QY"
      }
    },
    {
      "cell_type": "code",
      "source": [
        "# Exercise 4 (Types) : Expression\n",
        "# 이름 : 김영주\n",
        "# 학번 : 2023152498\n",
        "\n",
        "# write an expression that calculates how many hours there are in 160 minutes:\n",
        "160/60\n"
      ],
      "metadata": {
        "colab": {
          "base_uri": "https://localhost:8080/"
        },
        "id": "p_P89IR017Pg",
        "outputId": "8ad2b244-cab6-47ee-f75b-030836e384e2"
      },
      "execution_count": 4,
      "outputs": [
        {
          "output_type": "execute_result",
          "data": {
            "text/plain": [
              "2.6666666666666665"
            ]
          },
          "metadata": {},
          "execution_count": 4
        }
      ]
    },
    {
      "cell_type": "code",
      "source": [
        "# write an expression that calculates how many hours there are in 160 minutes:\n",
        "160//60"
      ],
      "metadata": {
        "colab": {
          "base_uri": "https://localhost:8080/"
        },
        "id": "6GRZ6m8w8BnP",
        "outputId": "e2584540-2d29-42af-fefb-623ffc1f429b"
      },
      "execution_count": 5,
      "outputs": [
        {
          "output_type": "execute_result",
          "data": {
            "text/plain": [
              "2"
            ]
          },
          "metadata": {},
          "execution_count": 5
        }
      ]
    }
  ]
}